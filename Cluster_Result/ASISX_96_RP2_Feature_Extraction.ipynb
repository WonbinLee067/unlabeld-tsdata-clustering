{
 "cells": [
  {
   "cell_type": "code",
   "execution_count": 1,
   "metadata": {},
   "outputs": [],
   "source": [
    "import pandas as pd\n",
    "import numpy as np\n",
    "from readFile import split_into_values, toRPdata"
   ]
  },
  {
   "cell_type": "code",
   "execution_count": 2,
   "metadata": {},
   "outputs": [],
   "source": [
    "# columns 와 value는 사용자 입력\n",
    "df = pd.read_csv('resources/AXISX_resample.csv')\n",
    "#df = pd.read_csv('resources/CLAMP_resample.csv')\n",
    "value = ['value']\n",
    "#df = pd.read_csv('resources/Dataset1.csv')\n",
    "columns = ['chip', 'wire', 'segment']\n",
    "value = ['value']"
   ]
  },
  {
   "cell_type": "code",
   "execution_count": 3,
   "metadata": {},
   "outputs": [],
   "source": [
    "df = df.loc[:, columns + value] #('chip', 'wire', 'value')는 사용자 입력\n",
    "size = 96 # 모델에 따라 변경 28, 96\n",
    "result = split_into_values(df, columns)"
   ]
  },
  {
   "cell_type": "code",
   "execution_count": 4,
   "metadata": {},
   "outputs": [],
   "source": [
    "# dataframe -> list\n",
    "result_list = result.values.tolist()"
   ]
  },
  {
   "cell_type": "code",
   "execution_count": 5,
   "metadata": {},
   "outputs": [],
   "source": [
    "from sklearn.preprocessing import MinMaxScaler\n",
    "\n",
    "def MinMax(data):\n",
    "    MMS = MinMaxScaler().fit(data)\n",
    "    scaled = MMS.transform(data)\n",
    "    return scaled"
   ]
  },
  {
   "cell_type": "code",
   "execution_count": 6,
   "metadata": {},
   "outputs": [],
   "source": [
    "# result_list transpose\n",
    "result_T = [list(x) for x in zip(*result_list)]"
   ]
  },
  {
   "cell_type": "code",
   "execution_count": 7,
   "metadata": {},
   "outputs": [],
   "source": [
    "# minmax 정규화\n",
    "result_scaled = MinMax(result_T)"
   ]
  },
  {
   "cell_type": "code",
   "execution_count": 8,
   "metadata": {},
   "outputs": [],
   "source": [
    "# 다시 result transpose 해서 원래대로\n",
    "result_scaled = [list(x) for x in zip(*result_scaled)]"
   ]
  },
  {
   "cell_type": "code",
   "execution_count": 9,
   "metadata": {},
   "outputs": [],
   "source": [
    "from tslearn.preprocessing import TimeSeriesScalerMeanVariance, TimeSeriesResampler"
   ]
  },
  {
   "cell_type": "code",
   "execution_count": 10,
   "metadata": {},
   "outputs": [],
   "source": [
    "# 2. 시계열 셋 크기 변경\n",
    "result_ = TimeSeriesResampler(sz=size).fit_transform(result)"
   ]
  },
  {
   "cell_type": "code",
   "execution_count": 11,
   "metadata": {},
   "outputs": [],
   "source": [
    "data = result_.reshape(result_.shape[0], 1, size)\n",
    "#X = toRPdata(data, threshold='point', percentage=30) # rp 1\n",
    "X = toRPdata(data) # rp 2"
   ]
  },
  {
   "cell_type": "code",
   "execution_count": 12,
   "metadata": {},
   "outputs": [
    {
     "data": {
      "text/plain": [
       "(1330, 96, 96, 1)"
      ]
     },
     "execution_count": 12,
     "metadata": {},
     "output_type": "execute_result"
    }
   ],
   "source": [
    "X_scaled = np.expand_dims(X, axis=3)\n",
    "X_scaled.shape"
   ]
  },
  {
   "cell_type": "code",
   "execution_count": 13,
   "metadata": {},
   "outputs": [],
   "source": [
    "from keras.models import load_model\n",
    "model = load_model('rp2_AXIXS_96_Autoencoder_128_3e-05_weight.h5')"
   ]
  },
  {
   "cell_type": "code",
   "execution_count": 14,
   "metadata": {},
   "outputs": [
    {
     "name": "stdout",
     "output_type": "stream",
     "text": [
      "Model: \"sequential_5\"\n",
      "_________________________________________________________________\n",
      "Layer (type)                 Output Shape              Param #   \n",
      "=================================================================\n",
      "conv2d_35 (Conv2D)           (None, 96, 96, 32)        320       \n",
      "_________________________________________________________________\n",
      "activation_35 (Activation)   (None, 96, 96, 32)        0         \n",
      "_________________________________________________________________\n",
      "max_pooling2d_15 (MaxPooling (None, 48, 48, 32)        0         \n",
      "_________________________________________________________________\n",
      "conv2d_36 (Conv2D)           (None, 48, 48, 16)        4624      \n",
      "_________________________________________________________________\n",
      "activation_36 (Activation)   (None, 48, 48, 16)        0         \n",
      "_________________________________________________________________\n",
      "max_pooling2d_16 (MaxPooling (None, 24, 24, 16)        0         \n",
      "_________________________________________________________________\n",
      "conv2d_37 (Conv2D)           (None, 24, 24, 2)         290       \n",
      "_________________________________________________________________\n",
      "activation_37 (Activation)   (None, 24, 24, 2)         0         \n",
      "_________________________________________________________________\n",
      "max_pooling2d_17 (MaxPooling (None, 12, 12, 2)         0         \n",
      "_________________________________________________________________\n",
      "conv2d_38 (Conv2D)           (None, 12, 12, 2)         38        \n",
      "_________________________________________________________________\n",
      "activation_38 (Activation)   (None, 12, 12, 2)         0         \n",
      "_________________________________________________________________\n",
      "up_sampling2d_15 (UpSampling (None, 24, 24, 2)         0         \n",
      "_________________________________________________________________\n",
      "conv2d_39 (Conv2D)           (None, 24, 24, 16)        304       \n",
      "_________________________________________________________________\n",
      "activation_39 (Activation)   (None, 24, 24, 16)        0         \n",
      "_________________________________________________________________\n",
      "up_sampling2d_16 (UpSampling (None, 48, 48, 16)        0         \n",
      "_________________________________________________________________\n",
      "conv2d_40 (Conv2D)           (None, 48, 48, 32)        4640      \n",
      "_________________________________________________________________\n",
      "activation_40 (Activation)   (None, 48, 48, 32)        0         \n",
      "_________________________________________________________________\n",
      "up_sampling2d_17 (UpSampling (None, 96, 96, 32)        0         \n",
      "_________________________________________________________________\n",
      "conv2d_41 (Conv2D)           (None, 96, 96, 1)         289       \n",
      "_________________________________________________________________\n",
      "activation_41 (Activation)   (None, 96, 96, 1)         0         \n",
      "=================================================================\n",
      "Total params: 10,505\n",
      "Trainable params: 10,505\n",
      "Non-trainable params: 0\n",
      "_________________________________________________________________\n",
      "None\n"
     ]
    }
   ],
   "source": [
    "print(model.summary())"
   ]
  },
  {
   "cell_type": "code",
   "execution_count": 15,
   "metadata": {},
   "outputs": [
    {
     "name": "stdout",
     "output_type": "stream",
     "text": [
      "[[1.1367555  0.26484057 2.505173   ... 0.13618654 1.3474734  0.40889412]\n",
      " [2.220899   0.         3.950424   ... 0.20262879 0.7216671  0.        ]\n",
      " [3.848504   1.1673617  4.2500215  ... 0.         2.7189982  0.        ]\n",
      " ...\n",
      " [3.3162796  0.14355874 5.060283   ... 0.         1.82039    0.        ]\n",
      " [1.8259916  0.5287815  4.9768133  ... 0.4699223  0.5744387  0.7971715 ]\n",
      " [2.109472   0.6446901  4.6462035  ... 0.         2.874545   0.        ]]\n",
      "(1330, 288)\n"
     ]
    }
   ],
   "source": [
    "from keras import backend as K\n",
    "\n",
    "compressed_layer = 8\n",
    "get_layer_output = K.function([model.layers[0].input],[model.layers[compressed_layer].output])\n",
    "compressed = get_layer_output([X_scaled])[0]\n",
    "feature = compressed.reshape(compressed.shape[0], compressed.shape[1]*compressed.shape[2]*compressed.shape[3])\n",
    "\n",
    "print(feature)\n",
    "print(feature.shape)"
   ]
  },
  {
   "cell_type": "code",
   "execution_count": null,
   "metadata": {},
   "outputs": [],
   "source": [
    "import numpy\n",
    "\n",
    "numpy.save('./compressed2', compressed) # x_save.npy\n",
    "numpy.save('./feature2', feature) # x_save.npy\n",
    "numpy.save('./X_scaled2', X_scaled) # x_save.npy"
   ]
  },
  {
   "cell_type": "code",
   "execution_count": null,
   "metadata": {},
   "outputs": [],
   "source": []
  }
 ],
 "metadata": {
  "kernelspec": {
   "display_name": "Python 3",
   "language": "python",
   "name": "python3"
  },
  "language_info": {
   "codemirror_mode": {
    "name": "ipython",
    "version": 3
   },
   "file_extension": ".py",
   "mimetype": "text/x-python",
   "name": "python",
   "nbconvert_exporter": "python",
   "pygments_lexer": "ipython3",
   "version": "3.6.12"
  }
 },
 "nbformat": 4,
 "nbformat_minor": 4
}
